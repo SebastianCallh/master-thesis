{
 "cells": [
  {
   "cell_type": "code",
   "execution_count": null,
   "metadata": {
    "autoscroll": false,
    "collapsed": false,
    "ein.hycell": false,
    "ein.tags": "worksheet-0",
    "slideshow": {
     "slide_type": "slide"
    }
   },
   "outputs": [],
   "source": [
    "First off install dependencies. This assumes that the notebook is run in the correct virtualenv."
   ]
  },
  {
   "cell_type": "code",
   "execution_count": null,
   "metadata": {
    "autoscroll": false,
    "collapsed": false,
    "ein.hycell": false,
    "ein.tags": "worksheet-0",
    "slideshow": {
     "slide_type": "-"
    }
   },
   "outputs": [],
   "source": [
    "!pip install pandas numpy seaborn gpy sklearn plotly"
   ]
  },
  {
   "cell_type": "code",
   "execution_count": 7,
   "metadata": {
    "autoscroll": false,
    "collapsed": false,
    "ein.hycell": false,
    "ein.tags": "worksheet-0",
    "slideshow": {
     "slide_type": "-"
    }
   },
   "outputs": [
    {
     "data": {
      "text/plain": [
       "(2769463, 12)"
      ]
     },
     "execution_count": 7,
     "metadata": {},
     "output_type": "execute_result"
    }
   ],
   "source": [
    "# Rename and repackage data\n",
    "\n",
    "\n",
    "import pandas as pd\n",
    "path = '../data/203_train.p'\n",
    "data = pd.read_pickle(path)\n",
    "\n",
    "# n_trajs = list(data.traj.unique())\n",
    "# n_trajs_to_use = 5 # len(n_trajs)\n",
    "\n",
    "data = data.rename(columns = {\n",
    "    'latitude': 'lat',\n",
    "    'longitude': 'lon',\n",
    "    'journey_number': 'traj',\n",
    "    'segment_number': 'seg', \n",
    "    'speed': 'speed',\n",
    "    'event': 'event',\n",
    "    'timestamp': 'timestamp'\n",
    "})\n",
    "data.to_pickle('../data/train3.pkl')\n",
    "data.shape"
   ]
  },
  {
   "cell_type": "code",
   "execution_count": null,
   "metadata": {
    "autoscroll": false,
    "collapsed": false,
    "ein.hycell": false,
    "ein.tags": "worksheet-0",
    "slideshow": {
     "slide_type": "-"
    }
   },
   "outputs": [],
   "source": [
    "from IPython.display import display\n",
    "import numpy as np\n",
    "import GPy\n",
    "\n",
    "X = np.random.uniform(-3.,3.,(20,1))\n",
    "Y = np.sin(X) + np.random.randn(20,1)*0.05\n",
    "kernel = GPy.kern.RBF(input_dim=1, variance=1., lengthscale=1.)\n",
    "m = GPy.models.GPRegression(X,Y,kernel)\n",
    "print(X.shape, Y.shape)\n",
    "print(m)\n",
    "# GPy.plotting.change_plotting_library('plotly')\n",
    "fig = m.plot()\n",
    "#GPy.plotting.show(fig, filename='basic_gp_regression_notebook')\n",
    "\n"
   ]
  },
  {
   "cell_type": "code",
   "execution_count": 1,
   "metadata": {
    "autoscroll": false,
    "collapsed": false,
    "ein.hycell": false,
    "ein.tags": "worksheet-0",
    "slideshow": {
     "slide_type": "-"
    }
   },
   "outputs": [
    {
     "data": {
      "text/plain": [
       "         Unnamed: 0                          timestamp                  event  \\\n",
       "2726800           0  2018-04-06T04:46:49.0000000+02:00    JourneyStartedEvent   \n",
       "2726801           1  2018-04-06T04:46:50.0000000+02:00  ObservedPositionEvent   \n",
       "2726802           2  2018-04-06T04:46:51.0000000+02:00  ObservedPositionEvent   \n",
       "2726803           3  2018-04-06T04:46:52.0000000+02:00  ObservedPositionEvent   \n",
       "2726804           4  2018-04-06T04:46:53.0000000+02:00  ObservedPositionEvent   \n",
       "\n",
       "         vehicle_id  line        lon        lat   direction  speed station  \\\n",
       "2726800        5415   203  58.414219  15.571022   -1.000000   -1.0     NaN   \n",
       "2726801        5415     0  58.414227  15.571007  144.699997    0.0     NaN   \n",
       "2726802        5415     0  58.414230  15.570998  144.699997    0.0     NaN   \n",
       "2726803        5415     0  58.414230  15.570992  144.699997    0.0     NaN   \n",
       "2726804        5415     0  58.414230  15.570991  144.699997    0.0     NaN   \n",
       "\n",
       "         traj  seg  \n",
       "2726800  2875    1  \n",
       "2726801  2875    1  \n",
       "2726802  2875    1  \n",
       "2726803  2875    1  \n",
       "2726804  2875    1  "
      ]
     },
     "execution_count": 1,
     "metadata": {},
     "output_type": "execute_result"
    }
   ],
   "source": [
    "import numpy as np\n",
    "import pandas as pd\n",
    "import seaborn as sns\n",
    "import pickle\n",
    "from IPython.display import display, clear_output\n",
    "\n",
    "%matplotlib inline\n",
    "sns.set(style=\"darkgrid\")\n",
    "\n",
    "trajs_pickle_path = '../data/train3.pkl'\n",
    "data = pd.read_pickle(trajs_pickle_path)\n",
    "n_trajs = list(data.traj.unique())\n",
    "n_trajs_to_use = 5 # len(n_trajs)\n",
    "\n",
    "np.random.seed(12345)\n",
    "trajs_to_use = frozenset(np.random.choice(n_trajs, size=n_trajs_to_use, replace=False))\n",
    "trajs = data[data.traj.transform(lambda j: j in trajs_to_use)]\n",
    "traj_ixs = trajs.traj.unique()\n",
    "trajs.head()\n"
   ]
  },
  {
   "cell_type": "code",
   "execution_count": 2,
   "metadata": {
    "autoscroll": false,
    "collapsed": false,
    "ein.hycell": false,
    "ein.tags": "worksheet-0",
    "slideshow": {
     "slide_type": "-"
    }
   },
   "outputs": [
    {
     "name": "stdout",
     "output_type": "stream",
     "text": [
      "Optimization restart 1/3, f = -5661.289530998933\n"
     ]
    },
    {
     "name": "stdout",
     "output_type": "stream",
     "text": [
      "Optimization restart 2/3, f = -5661.289531066791\n"
     ]
    },
    {
     "name": "stdout",
     "output_type": "stream",
     "text": [
      "Optimization restart 3/3, f = -5661.289531075537\n"
     ]
    },
    {
     "name": "stdout",
     "output_type": "stream",
     "text": [
      "Optimization restart 1/3, f = -859.9644967455217\n"
     ]
    },
    {
     "name": "stdout",
     "output_type": "stream",
     "text": [
      "Optimization restart 2/3, f = -859.9644967424852\n"
     ]
    },
    {
     "name": "stdout",
     "output_type": "stream",
     "text": [
      "Optimization restart 3/3, f = -859.9644967452803\n"
     ]
    },
    {
     "name": "stderr",
     "output_type": "stream",
     "text": [
      " /home/sebca553/.local/lib/python3.6/site-packages/sklearn/preprocessing/data.py:625: DataConversionWarning:Data with input dtype int64 were all converted to float64 by StandardScaler.\n",
      " /home/sebca553/Documents/msc/model/model.py:107: DataConversionWarning:Data with input dtype int64 were all converted to float64 by StandardScaler.\n"
     ]
    },
    {
     "name": "stdout",
     "output_type": "stream",
     "text": [
      "Optimization restart 1/3, f = -3432.530670830555\n"
     ]
    },
    {
     "name": "stdout",
     "output_type": "stream",
     "text": [
      "Optimization restart 2/3, f = -3432.530670860052\n"
     ]
    },
    {
     "name": "stdout",
     "output_type": "stream",
     "text": [
      "Optimization restart 3/3, f = -3798.618018935231\n"
     ]
    }
   ],
   "source": [
    "from model import learn_trajectory_model, plot_function\n",
    "\n",
    "traj_one = trajs[trajs.traj == traj_ixs[0]]\n",
    "m = learn_trajectory_model(traj_one, ['lat', 'lon'], ['lat', 'lon'])"
   ]
  }
 ],
 "metadata": {
  "kernelspec": {
   "display_name": "Python 3",
   "name": "python3"
  },
  "name": "learn.ipynb"
 },
 "nbformat": 4,
 "nbformat_minor": 2
}
